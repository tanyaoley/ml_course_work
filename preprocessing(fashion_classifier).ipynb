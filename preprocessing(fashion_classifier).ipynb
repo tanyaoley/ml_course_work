{
 "cells": [
  {
   "cell_type": "code",
   "execution_count": 2,
   "metadata": {},
   "outputs": [],
   "source": [
    "from xgboost import XGBClassifier\n",
    "from sklearn.model_selection import train_test_split\n",
    "import numpy as np\n",
    "import torchvision\n",
    "import torch\n",
    "from torchvision import transforms\n",
    "import torch, torch.nn as nn\n",
    "import torch.nn.functional as F\n",
    "from torch.autograd import Variable\n",
    "import glob\n",
    "import scipy.io\n",
    "import pandas as pd\n",
    "import shutil\n",
    "import os\n",
    "from numpy import *"
   ]
  },
  {
   "cell_type": "code",
   "execution_count": 5,
   "metadata": {},
   "outputs": [],
   "source": [
    "filenames = glob.glob('ClothingAttributeDataset/labels/*.mat')"
   ]
  },
  {
   "cell_type": "code",
   "execution_count": 6,
   "metadata": {},
   "outputs": [],
   "source": [
    "imagenames = glob.glob('ClothingAttributeDataset/images/*.jpg')"
   ]
  },
  {
   "cell_type": "code",
   "execution_count": 14,
   "metadata": {},
   "outputs": [],
   "source": [
    "imagelist = []\n",
    "for st in imagenames:\n",
    "    imagelist.append(st[st.rindex('\\\\')+1 :-4])"
   ]
  },
  {
   "cell_type": "code",
   "execution_count": 15,
   "metadata": {},
   "outputs": [],
   "source": [
    "df = pd.DataFrame()\n",
    "df['imagename']  = imagelist"
   ]
  },
  {
   "cell_type": "code",
   "execution_count": 16,
   "metadata": {},
   "outputs": [],
   "source": [
    "interval = [1.,2.,3.,4.,5.,6.,7.]"
   ]
  },
  {
   "cell_type": "code",
   "execution_count": 17,
   "metadata": {},
   "outputs": [],
   "source": [
    "def extract_mat(filename):\n",
    "    '''Extract the labels from the .mat file and load into a dataframe'''\n",
    "    mat = scipy.io.loadmat(filename)\n",
    "    mat = {k:v for k, v in mat.items() if k[0] != '_'}\n",
    "    data = [float(j) for i in mat.values() for j in i]\n",
    "    for i in range(len(data)):\n",
    "        if data[i] not in interval:\n",
    "            data[i] = np.nan\n",
    "    data = data\n",
    "    return data"
   ]
  },
  {
   "cell_type": "code",
   "execution_count": 18,
   "metadata": {},
   "outputs": [],
   "source": [
    "for filename in filenames:\n",
    "    \n",
    "    st = filename\n",
    "    df[st[st.rindex('\\\\')+1 :-4]] =  extract_mat(filename)\n",
    "    "
   ]
  },
  {
   "cell_type": "code",
   "execution_count": 19,
   "metadata": {},
   "outputs": [
    {
     "name": "stdout",
     "output_type": "stream",
     "text": [
      "     imagename  black_GT  blue_GT  brown_GT  category_GT  collar_GT  cyan_GT  \\\n",
      "0       000001       2.0      1.0       1.0          5.0        2.0      1.0   \n",
      "1       000002       1.0      1.0       1.0          NaN        NaN      1.0   \n",
      "2       000003       2.0      1.0       1.0          4.0        2.0      1.0   \n",
      "3       000004       2.0      1.0       1.0          5.0        2.0      1.0   \n",
      "4       000005       1.0      1.0       1.0          6.0        1.0      1.0   \n",
      "...        ...       ...      ...       ...          ...        ...      ...   \n",
      "1851    001852       1.0      1.0       1.0          1.0        2.0      1.0   \n",
      "1852    001853       1.0      1.0       1.0          7.0        1.0      1.0   \n",
      "1853    001854       1.0      1.0       1.0          7.0        2.0      1.0   \n",
      "1854    001855       1.0      1.0       1.0          1.0        2.0      1.0   \n",
      "1855    001856       1.0      2.0       1.0          7.0        1.0      2.0   \n",
      "\n",
      "      gender_GT  gray_GT  green_GT  ...  pattern_spot_GT  pattern_stripe_GT  \\\n",
      "0           1.0      1.0       1.0  ...              NaN                NaN   \n",
      "1           2.0      2.0       1.0  ...              1.0                NaN   \n",
      "2           1.0      2.0       1.0  ...              1.0                1.0   \n",
      "3           2.0      1.0       1.0  ...              1.0                1.0   \n",
      "4           2.0      1.0       1.0  ...              1.0                1.0   \n",
      "...         ...      ...       ...  ...              ...                ...   \n",
      "1851        2.0      1.0       1.0  ...              1.0                1.0   \n",
      "1852        2.0      1.0       1.0  ...              1.0                1.0   \n",
      "1853        2.0      1.0       1.0  ...              1.0                1.0   \n",
      "1854        2.0      1.0       1.0  ...              1.0                1.0   \n",
      "1855        2.0      1.0       1.0  ...              1.0                1.0   \n",
      "\n",
      "      placket_GT  purple_GT  red_GT  scarf_GT  skin_exposure_GT  \\\n",
      "0            2.0        1.0     1.0       1.0               1.0   \n",
      "1            2.0        1.0     1.0       1.0               1.0   \n",
      "2            2.0        1.0     1.0       2.0               1.0   \n",
      "3            2.0        1.0     1.0       1.0               1.0   \n",
      "4            1.0        1.0     1.0       1.0               2.0   \n",
      "...          ...        ...     ...       ...               ...   \n",
      "1851         2.0        1.0     1.0       1.0               1.0   \n",
      "1852         1.0        1.0     1.0       1.0               2.0   \n",
      "1853         NaN        1.0     1.0       1.0               1.0   \n",
      "1854         2.0        1.0     1.0       1.0               NaN   \n",
      "1855         1.0        1.0     1.0       1.0               2.0   \n",
      "\n",
      "      sleevelength_GT  white_GT  yellow_GT  \n",
      "0                 3.0       1.0        1.0  \n",
      "1                 3.0       1.0        1.0  \n",
      "2                 3.0       1.0        1.0  \n",
      "3                 3.0       1.0        1.0  \n",
      "4                 1.0       2.0        1.0  \n",
      "...               ...       ...        ...  \n",
      "1851              3.0       1.0        1.0  \n",
      "1852              1.0       1.0        1.0  \n",
      "1853              3.0       1.0        1.0  \n",
      "1854              3.0       1.0        1.0  \n",
      "1855              1.0       1.0        1.0  \n",
      "\n",
      "[1856 rows x 27 columns]\n"
     ]
    }
   ],
   "source": [
    "#df = df.fillna(0)\n",
    "print(df)"
   ]
  },
  {
   "cell_type": "code",
   "execution_count": 21,
   "metadata": {},
   "outputs": [],
   "source": [
    "values = {'gender_GT', 'skin_exposure_GT', 'sleevelength_GT', 'neckline_GT','category_GT'}\n",
    "\n",
    "for v in values:\n",
    "    df[v] = df[v].replace(np.nan, 0)\n"
   ]
  },
  {
   "cell_type": "code",
   "execution_count": 22,
   "metadata": {},
   "outputs": [],
   "source": [
    "#Replaced all the NaN categories with 1\n",
    "\n",
    "df = df.replace(np.nan, 1)\n",
    "df.to_csv('df',index=False)"
   ]
  },
  {
   "cell_type": "code",
   "execution_count": 23,
   "metadata": {},
   "outputs": [],
   "source": [
    "df = df.apply(pd.to_numeric)"
   ]
  },
  {
   "cell_type": "code",
   "execution_count": 25,
   "metadata": {},
   "outputs": [],
   "source": [
    "df = df.drop('imagename',axis=1)"
   ]
  },
  {
   "cell_type": "code",
   "execution_count": 36,
   "metadata": {},
   "outputs": [],
   "source": [
    "#подготовка датасета - создаю папки\n",
    "import os\n",
    "path = '/fin_df/'\n",
    "\n",
    "for col in new_df.columns:\n",
    "    os.mkdir(path+col)"
   ]
  },
  {
   "cell_type": "code",
   "execution_count": null,
   "metadata": {},
   "outputs": [],
   "source": []
  },
  {
   "cell_type": "code",
   "execution_count": 49,
   "metadata": {},
   "outputs": [],
   "source": [
    "#SORT PIC INTO FOLDERS\n",
    "from PIL import Image\n",
    "\n",
    "path = '/insta_df/images/'\n",
    "for col in new_df.columns:\n",
    "    col_list = new_df[col].to_list()\n",
    "    for i in range(len(col_list)):\n",
    "        if col_list[i] == 1:\n",
    "            \n",
    "            img = Image.open(imagenames[i]).resize((128,128)) \n",
    "            img.save( path +col+'/'+ imagelist[i]+'.jpg')\n",
    "            \n",
    "            \n",
    "#sort for insta_df             \n",
    "imagenames_inst = glob.glob('/insta_df/images/*.jpeg')\n",
    "imagelist_inst = []\n",
    "for st in imagenames_inst:\n",
    "    imagelist_inst.append(st[st.rindex('\\\\')+1 :-5])\n",
    "\n",
    "    \n",
    "for i in imagenames_inst :   \n",
    "    img = Image.open(i).resize((128,128)) \n",
    "    img.save(i)           "
   ]
  },
  {
   "cell_type": "code",
   "execution_count": 23,
   "metadata": {},
   "outputs": [],
   "source": [
    "train_size = int(0.8 * len(full_dataset))\n",
    "test_val_size = len(full_dataset) - train_size\n",
    "train_dataset, test_val_dataset = torch.utils.data.random_split(full_dataset, [train_size, test_val_size])\n",
    "test_size = int(0.5 * len(test_val_dataset))\n",
    "val_size = len(test_val_dataset) - test_size\n",
    "test_dataset, val_dataset = torch.utils.data.random_split(test_val_dataset, [test_size, val_size])"
   ]
  },
  {
   "cell_type": "code",
   "execution_count": 25,
   "metadata": {},
   "outputs": [],
   "source": [
    "batch_size = 32\n",
    "train_batch_gen = torch.utils.data.DataLoader(train_dataset, \n",
    "                                              batch_size=batch_size,\n",
    "                                              shuffle=True,\n",
    "                                              num_workers=2)\n",
    "\n",
    "\n",
    "val_batch_gen = torch.utils.data.DataLoader(val_dataset, \n",
    "                                              batch_size=batch_size,\n",
    "                                              shuffle=True,\n",
    "                                              num_workers=2)\n",
    "test_batch_gen = torch.utils.data.DataLoader(test_dataset, \n",
    "                                              batch_size=batch_size,\n",
    "                                              shuffle=True,\n",
    "                                              num_workers=2)"
   ]
  },
  {
   "cell_type": "code",
   "execution_count": null,
   "metadata": {},
   "outputs": [],
   "source": []
  },
  {
   "cell_type": "code",
   "execution_count": null,
   "metadata": {},
   "outputs": [],
   "source": []
  }
 ],
 "metadata": {
  "kernelspec": {
   "display_name": "Python 3",
   "language": "python",
   "name": "python3"
  },
  "language_info": {
   "codemirror_mode": {
    "name": "ipython",
    "version": 3
   },
   "file_extension": ".py",
   "mimetype": "text/x-python",
   "name": "python",
   "nbconvert_exporter": "python",
   "pygments_lexer": "ipython3",
   "version": "3.7.4"
  }
 },
 "nbformat": 4,
 "nbformat_minor": 2
}
